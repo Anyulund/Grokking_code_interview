{
  "nbformat": 4,
  "nbformat_minor": 0,
  "metadata": {
    "colab": {
      "name": "Sliding_Window.ipynb",
      "provenance": [],
      "collapsed_sections": [],
      "authorship_tag": "ABX9TyODBeXH7IJU0YCcmwWOdMAp",
      "include_colab_link": true
    },
    "kernelspec": {
      "name": "python3",
      "display_name": "Python 3"
    },
    "language_info": {
      "name": "python"
    }
  },
  "cells": [
    {
      "cell_type": "markdown",
      "metadata": {
        "id": "view-in-github",
        "colab_type": "text"
      },
      "source": [
        "<a href=\"https://colab.research.google.com/github/Anyulund/Grokking_code_iinterview/blob/main/Sliding_Window.ipynb\" target=\"_parent\"><img src=\"https://colab.research.google.com/assets/colab-badge.svg\" alt=\"Open In Colab\"/></a>"
      ]
    },
    {
      "cell_type": "markdown",
      "metadata": {
        "id": "SDGhokLsdmFO"
      },
      "source": [
        "# Sliding Window Problem\n",
        "\n",
        "## How to recognize / Question Variants: \n",
        "\n",
        "\n",
        "1.  Things we iterate over ***sequentially*** \n",
        "  * ***Continuous*** sequence of elements \n",
        "  * Strings, arrays, linked list \n",
        "\n",
        "2.   Min, Max, Longest, Shortest, Average or if something is contained in array or string \n",
        "  * Maybe we need to calculate something like max sum or running average\n",
        "\n",
        "3. Contains ***fixed length*** \n",
        "  * Usually a subarray of size K\n",
        "\n",
        "4. Dynamic Variant \n",
        "  * Smallest sum $>=$ than some value S\n",
        "\n",
        "5. Dynamic Varian with Auxilary Data Structure\n",
        "  * Longest substring with no more than K distinct characters\n",
        "  * String permutations \n",
        "\n",
        "## What is the point? \n",
        "Instead of iterating over array using a number over and over again, reuse the subarray each time to save space and memory. Just add a number to placeholder (index) the end of subarray, and subtract the number from the placeholder of the beggining of subarray to make the window slide. \n",
        "\n",
        "## Commonalities:\n",
        "\n",
        "1. Everything is grouped in a **sequence**\n",
        "2. Longest/Smallest, contains, smallest sum/subarray, maximize or minimize something  \n",
        "\n",
        "## Additional Resources:\n",
        "\n",
        "1. Geeks for Geeks\n",
        "*  https://www.geeksforgeeks.org/python-program-for-largest-sum-contiguous-subarray/\n",
        "* https://www.geeksforgeeks.org/minimum-length-subarray-sum-greater-given-value/\n",
        "2. Simple Engineer\n",
        "* https://youtu.be/MK-NZ4hN7rs\n",
        "3. Grokken \n",
        "* https://www.educative.io/courses/grokking-the-coding-interview/7D5NNZWQ8Wr\n",
        "4. Leetcode:\n",
        "* https://leetcode.com/problems/longest-substring-with-at-most-k-distinct-characters/\n"
      ]
    },
    {
      "cell_type": "markdown",
      "metadata": {
        "id": "E6igQaoQx7tt"
      },
      "source": [
        "## Hypothetical thug scenario \n",
        "Think about a row of Seats in a movie theater. Someone left different amounts of of candy on each Seat. Your group of friends of fixed size comes in. \n",
        "You want to give them intructions to skoot over one, two or three Seats as a group and then compare all candy that they get as group to the previous amount that they had as a group instead of county candy each time for each person. \n",
        "Usually you want to maximize the amount of candy before the movie starts, so you don't want to sit there and count candy all day. \n",
        "\n",
        "### Find Each Person's Take Home Loot\n",
        "We got to find the seats which combined have the most candy for us all before everyone else arrives and SNATCH THEM! For this  will use averages for each group of seats.\n",
        "Here is the plan how we are going to do it to save time:\n",
        "1. ***Bring a piece of paper to record stuff.*** Name it recordedAverages.\n",
        "1. ***Bring empty candy Stash.*** Unless you are stupid.  \n",
        "2. ***Start at the first seat in the row***,\n",
        " which is labeled ZERO, NOT one like in normal world, beccause its Python. \n",
        "3. Occupy all seats that we can. \n",
        "4. Take candy from each Seat that we are occupying and put it into our stash\n",
        "5. Make sure that we only take candy from our Seats\n",
        "6. Count all candy in the stash and divide it by the number of people in our group and record it\n",
        "7. Since we got to move to the next group of Seats one over, once we move the candy from one previos Seat is not going to count towards our stash average, so ***put the candy back into the Seat***. \n",
        "8. Then we just ***move one Seat over*** and repeat the process. "
      ]
    },
    {
      "cell_type": "code",
      "metadata": {
        "colab": {
          "base_uri": "https://localhost:8080/"
        },
        "id": "GrmV-M9iJ-cY",
        "outputId": "8de0a5d1-72d3-4334-8e17-6d8c1ab45d81"
      },
      "source": [
        "def find_averages_of_candy(number_of_people, candyPerSeat):\n",
        "  recordedAverages = [] #Step 1\n",
        "  candyStash, firstPersonSeat = 0.0, 0 #Steps 2 and 3\n",
        "  for movieSeat in range(len(candyPerSeat)): #Step 4\n",
        "    candyStash += candyPerSeat[movieSeat]  # Step 5: Keep adding candy from each Seat \n",
        "    if movieSeat >= number_of_people - 1: #Step 6: Here we subtract one because in Python movie Seat counts starts from zero and not 1 (stupid)\n",
        "      recordedAverages.append(candyStash / number_of_people) #Step 7\n",
        "      candyStash -= candyPerSeat[firstPersonSeat]  # Step 8\n",
        "      firstPersonSeat += 1  # Step 9\n",
        "  return recordedAverages\n",
        "\n",
        "\n",
        "def main():\n",
        "  result = find_averages_of_candy(5, [1, 3, 2, 6, -1, 4, 1, 8, 2])\n",
        "  print(\"Averages of candy for number of people: \" + str(result))\n",
        "\n",
        "\n",
        "main()"
      ],
      "execution_count": null,
      "outputs": [
        {
          "output_type": "stream",
          "text": [
            "Averages of candy for number of people: [2.2, 2.8, 2.4, 3.6, 2.8]\n"
          ],
          "name": "stdout"
        }
      ]
    },
    {
      "cell_type": "markdown",
      "metadata": {
        "id": "Rsgz1xq-P7kW"
      },
      "source": [
        "### Find Largest Stash per Group\n",
        "We got to find the seats which combined have the most candy for us all before everyone else arrives and SNATCH THEM! For this  will use averages for each group of seats.\n",
        "Here is the plan how we are going to do it to save time:\n",
        "1. We got to bring a notebook to record our findings, because I am not memorizing it all. We will name the notebook \"recordedAverages\" so y'all don't confuse it with my private letters to Chris Farrel.\n",
        "1. We are going to start with empty pockets, so our candy sum is zero. \n",
        "2. We are going to start at the first seat in the row,\n",
        " which is labeled ZERO, NOT one like in normal world, beccause its Python. \n",
        "3. We are going to occupy all seats that we can. \n",
        "4. We will take candy from each Seat that we are occupying and put it into our stash\n",
        "5. We will make sure that we only take candy from our Seats\n",
        "6. We will count all candy in the stash and divide it by the number of people in our group and record it\n",
        "7. Since we got to move to the next group of Seats one over, once we move the candy from one previos Seat is not going to count towards our stash average, so we will put the candy back into the Seat. \n",
        "8. Then we just move one Seat over and repeat the process. "
      ]
    },
    {
      "cell_type": "code",
      "metadata": {
        "colab": {
          "base_uri": "https://localhost:8080/"
        },
        "id": "Xm_kyc_vqfKS",
        "outputId": "e89083a9-4507-4adf-f381-9233785cde4c"
      },
      "source": [
        "def largest_stash_per_group(number_of_people, candyPerSeat):\n",
        "  largestStash , groupStash = -float(\"inf\"), 0\n",
        "  firstPersonSeat = 0\n",
        "\n",
        "  for movieSeat in range(len(candyPerSeat)):\n",
        "    groupStash += candyPerSeat[movieSeat]  # add the next element\n",
        "    # slide the window, we don't need to slide if we've not hit the required window size of 'k'\n",
        "    if movieSeat >= number_of_people-1:\n",
        "      largestStash = max(largestStash, groupStash)\n",
        "      groupStash -= candyPerSeat[firstPersonSeat]  # subtract the element going out\n",
        "      firstPersonSeat += 1  # slide the window ahead\n",
        "  return largestStash\n",
        "\n",
        "\n",
        "def main():\n",
        "  print(\"Largest stash per group: \" + str(largest_stash_per_group(4, [1, 3, 2, 6, -1, 4, 1, 8, 2])))\n",
        "  #print(\"Maximum sum of a subarray of size K: \" + str(max_sub_array_of_size_k(2, [2, 3, 4, 1, 5])))\n",
        "\n",
        "main()\n"
      ],
      "execution_count": null,
      "outputs": [
        {
          "output_type": "stream",
          "text": [
            "Largest stash per group: 15\n"
          ],
          "name": "stdout"
        }
      ]
    },
    {
      "cell_type": "markdown",
      "metadata": {
        "id": "dCiP0KhAQIEP"
      },
      "source": [
        "### Find The Smallest Group Gor Given Goal\n",
        "We got to find the seats which combined have the most candy for us all before everyone else arrives and SNATCH THEM! For this  will use averages for each group of seats.\n",
        "Here is the plan how we are going to do it to save time:\n",
        "1. We got to bring a notebook to record our findings, because I am not memorizing it all. We will name the notebook \"recordedAverages\" so y'all don't confuse it with my private letters to Chris Farrel.\n",
        "1. We are going to start with empty pockets, so our candy sum is zero. \n",
        "2. We are going to start at the first seat in the row,\n",
        " which is labeled ZERO, NOT one like in normal world, beccause its Python. \n",
        "3. We are going to occupy all seats that we can. \n",
        "4. We will take candy from each Seat that we are occupying and put it into our stash\n",
        "5. We will make sure that we only take candy from our Seats\n",
        "6. We will count all candy in the stash and divide it by the number of people in our group and record it\n",
        "7. Since we got to move to the next group of Seats one over, once we move the candy from one previos Seat is not going to count towards our stash average, so we will put the candy back into the Seat. \n",
        "8. Then we just move one Seat over and repeat the process. "
      ]
    },
    {
      "cell_type": "code",
      "metadata": {
        "colab": {
          "base_uri": "https://localhost:8080/"
        },
        "id": "r9v70EdXtJC6",
        "outputId": "2c4a0028-d5c4-4d04-ef6a-713bf2c9dddf"
      },
      "source": [
        "def smallest_group_with_given_goal(goal, candyPerSeat):\n",
        "  stash = 0\n",
        "  min_group = float('inf')\n",
        "  firstPersonSeat = 0\n",
        "\n",
        "  for movieSeat in range(0, len(candyPerSeat)):\n",
        "    stash += candyPerSeat[movieSeat]  # add the next element\n",
        "    # shrink the window as small as possible until the 'window_sum' is smaller than 's'\n",
        "    while stash >= goal:\n",
        "      min_group = min(min_group, movieSeat - firstPersonSeat + 1)\n",
        "      stash -=  candyPerSeat[firstPersonSeat]\n",
        "      firstPersonSeat += 1\n",
        "  if min_group == float('inf'):\n",
        "    return 0\n",
        "  return min_group\n",
        "\n",
        "\n",
        "def main():\n",
        "  print(\"Smallest group: \" + str(smallest_group_with_given_goal(7, [2, 1, 5, 2, 3, 2])))\n",
        "  print(\"Smallest group: \" + str(smallest_group_with_given_goal(7, [2, 1, 5, 2, 8])))\n",
        "  print(\"Smallest group: \" + str(smallest_group_with_given_goal(8, [3, 4, 1, 1, 6])))\n",
        "\n",
        "\n",
        "main()\n"
      ],
      "execution_count": null,
      "outputs": [
        {
          "output_type": "stream",
          "text": [
            "Smallest group: 2\n",
            "Smallest group: 1\n",
            "Smallest group: 3\n"
          ],
          "name": "stdout"
        }
      ]
    },
    {
      "cell_type": "markdown",
      "metadata": {
        "id": "X3WGyxo9Qbur"
      },
      "source": [
        "### Bring Home The Largest and Most Diverse Stash"
      ]
    },
    {
      "cell_type": "code",
      "metadata": {
        "colab": {
          "base_uri": "https://localhost:8080/"
        },
        "id": "T2ThgosVtexM",
        "outputId": "69f4b3ea-f0da-41c0-9aaa-3a554cd64598"
      },
      "source": [
        "def largest_stash_with_distinct_candy(group, number_of_people):\n",
        "  firstPersonSeat = 0\n",
        "  max_group = 0\n",
        "  candy_record = {}\n",
        "\n",
        "  # in the following loop we'll try to extend the range [window_start, window_end]\n",
        "  for movieSeat in range(len(group)):\n",
        "    right_homie = group[movieSeat]\n",
        "    if right_homie not in candy_record:\n",
        "      candy_record[right_homie] = 0\n",
        "    candy_record[right_homie] += 1\n",
        "\n",
        "    # shrink the sliding window, until we are left with 'k' distinct characters in the char_frequency\n",
        "    while len(candy_record) > number_of_people:\n",
        "      left_homie = group[firstPersonSeat]\n",
        "      candy_record[left_homie] -= 1\n",
        "      if candy_record[left_homie] == 0:\n",
        "        del candy_record[left_homie]\n",
        "      firstPersonSeat += 1  # shrink the window\n",
        "    # remember the maximum length so far\n",
        "    max_group = max(max_group, movieSeat-firstPersonSeat + 1)\n",
        "  return max_group\n",
        "\n",
        "\n",
        "def main():\n",
        "  print(\"Size of the largest distinct stash: \" + str(largest_stash_with_distinct_candy(\"araaci\", 2)))\n",
        "  print(\"Size of the largest distinct stash: \" + str(largest_stash_with_distinct_candy(\"araaci\", 1)))\n",
        "  print(\"Size of the largest distinct stash: \" + str(largest_stash_with_distinct_candy(\"cbbebi\", 3)))\n",
        "\n",
        "\n",
        "main()\n",
        "\n"
      ],
      "execution_count": null,
      "outputs": [
        {
          "output_type": "stream",
          "text": [
            "Size of the largest distinct stash: 4\n",
            "Size of the largest distinct stash: 2\n",
            "Size of the largest distinct stash: 5\n"
          ],
          "name": "stdout"
        }
      ]
    },
    {
      "cell_type": "markdown",
      "metadata": {
        "id": "qv-FyhOlt5TG"
      },
      "source": [
        "### And Now we Got Fruit\n",
        "As you can see from previous problem, we mixed chocolate and peppermint, and other candy. By the time we got home, it all melted into inedible mess. \n",
        "So this time we will sort the candy. \n",
        "This time I will bring two stash bags instead of one. I will \"clean\" each sit of distinct candy one by one. And put separate candy into each bag. For example, I  will put chocoloates with chocolates and peppermints with peppermints. Don't mix them up! \n",
        "\n",
        "I only have two bags though and there are different types of candy. I have the list of candy in each sit and its type recorded. So I need to check which candy I need to pick to the the largest amount of the same candy in my bag.  \n",
        "\n",
        "Lets see how much of total candy for each type we can pick up. "
      ]
    },
    {
      "cell_type": "code",
      "metadata": {
        "colab": {
          "base_uri": "https://localhost:8080/"
        },
        "id": "dziuMOy_tndK",
        "outputId": "b8af23ec-ebde-498b-d0f8-798976462292"
      },
      "source": [
        "def fruits_into_baskets(fruits):\n",
        "  firstPersonSeat = 0\n",
        "  max_num_of_fruits = 0\n",
        "  fruit_frequency = {}\n",
        "\n",
        "  # try to extend the range [window_start, window_end]\n",
        "  for movieSeat in range(len(fruits)):\n",
        "    right_fruit = fruits[movieSeat]\n",
        "    if right_fruit not in fruit_frequency:\n",
        "      fruit_frequency[right_fruit] = 0\n",
        "    fruit_frequency[right_fruit] += 1\n",
        "\n",
        "    # shrink the sliding window, until we are left with '2' fruits in the fruit frequency dictionary\n",
        "    while len(fruit_frequency) > 2:\n",
        "      left_fruit = fruits[firstPersonSeat]\n",
        "      fruit_frequency[left_fruit] -= 1\n",
        "      if fruit_frequency[left_fruit] == 0:\n",
        "        del fruit_frequency[left_fruit]\n",
        "      firstPersonSeat += 1  # shrink the window\n",
        "    max_num_of_fruits = max(max_num_of_fruits, movieSeat-firstPersonSeat + 1)\n",
        "  return max_num_of_fruits\n",
        "\n",
        "\n",
        "def main():\n",
        "  print(\"Maximum number of fruits: \" + str(fruits_into_baskets(['A', 'B', 'C', 'A', 'C'])))\n",
        "  print(\"Maximum number of fruits: \" + str(fruits_into_baskets(['A', 'B', 'C', 'B', 'B', 'C'])))\n",
        "\n",
        "\n",
        "main()\n"
      ],
      "execution_count": null,
      "outputs": [
        {
          "output_type": "stream",
          "text": [
            "Maximum number of fruits: 3\n",
            "Maximum number of fruits: 5\n"
          ],
          "name": "stdout"
        }
      ]
    }
  ]
}